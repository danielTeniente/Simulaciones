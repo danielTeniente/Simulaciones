{
 "cells": [
  {
   "cell_type": "markdown",
   "id": "518c4c1e-4d71-4c1b-8dcd-14ea616fd215",
   "metadata": {},
   "source": [
    "# Simulación con monedas Interactivo"
   ]
  },
  {
   "cell_type": "markdown",
   "id": "300e72fb-328e-4143-97b9-3506b5b98ccb",
   "metadata": {},
   "source": [
    "## Obtener cara N veces"
   ]
  },
  {
   "cell_type": "markdown",
   "id": "b6a1a6e8-d171-4e5d-8f35-22560bb6cefb",
   "metadata": {},
   "source": [
    "Si se lanza una moneda X veces, cuál es la probabilidad de obtener cara N veces, considerando $N \\in[0,X]$"
   ]
  },
  {
   "cell_type": "markdown",
   "id": "ce2e7209-6d6a-4483-96de-32bb1b058771",
   "metadata": {},
   "source": [
    "### Interactividad"
   ]
  },
  {
   "cell_type": "markdown",
   "id": "c091a791-a93d-424d-a904-f65bee1ad6b0",
   "metadata": {},
   "source": [
    "Se utilizará `ipywidgets` para la interactividad."
   ]
  },
  {
   "cell_type": "code",
   "execution_count": 10,
   "id": "6cbf58ca-b103-4446-95ca-ed5f476199e4",
   "metadata": {},
   "outputs": [],
   "source": [
    "import ipywidgets as widgets\n",
    "import matplotlib.pyplot as plt\n",
    "import numpy as np"
   ]
  },
  {
   "cell_type": "markdown",
   "id": "ae4705f4-9c60-463e-8b89-dc3966a5ac20",
   "metadata": {},
   "source": [
    "Se necesita una función para el gráfico."
   ]
  },
  {
   "cell_type": "code",
   "execution_count": 29,
   "id": "163f4952-c24a-4fa2-a103-83bc74ed2a1f",
   "metadata": {},
   "outputs": [],
   "source": [
    "epochs = 2000"
   ]
  },
  {
   "cell_type": "code",
   "execution_count": 32,
   "id": "b0ff562d-8e21-4778-b803-72b0f4796999",
   "metadata": {},
   "outputs": [],
   "source": [
    "def grafico_distribución(lanzamientos_totales):\n",
    "    plt.figure(figsize=(10,5))\n",
    "    resultados = [0]*(lanzamientos_totales+1)\n",
    "    # veces que se repetirá el experimento\n",
    "    for t in range(epochs):\n",
    "        # simulación del suceso\n",
    "        count = 0\n",
    "        for i in range(lanzamientos_totales):\n",
    "            # lanzamiento de la moneda\n",
    "            cara = np.random.randint(2)\n",
    "            if(cara): #valor 1\n",
    "                count += 1 \n",
    "        resultados[count]+=1\n",
    "    resultados = np.array(resultados)    \n",
    "    resultados = resultados/epochs    \n",
    "    plt.plot(resultados)    "
   ]
  },
  {
   "cell_type": "markdown",
   "id": "e0aff3bf-a98f-4b85-a94e-4d811d532980",
   "metadata": {},
   "source": [
    "Utilizo un slider para declarar el número de lanzamientos totales."
   ]
  },
  {
   "cell_type": "code",
   "execution_count": 31,
   "id": "cdac5962-e2fb-403b-8ec4-9c953eb43ed0",
   "metadata": {},
   "outputs": [
    {
     "data": {
      "application/vnd.jupyter.widget-view+json": {
       "model_id": "7c21db52500b476da31926546ef1c4dc",
       "version_major": 2,
       "version_minor": 0
      },
      "text/plain": [
       "VBox(children=(SelectionSlider(description='Lanzamientos totales', layout=Layout(width='70%'), options=(10, 20…"
      ]
     },
     "metadata": {},
     "output_type": "display_data"
    },
    {
     "data": {
      "application/vnd.jupyter.widget-view+json": {
       "model_id": "e3a6063294d84fb89d4faf4077e1ac13",
       "version_major": 2,
       "version_minor": 0
      },
      "text/plain": [
       "Output()"
      ]
     },
     "metadata": {},
     "output_type": "display_data"
    }
   ],
   "source": [
    "X = widgets.SelectionSlider(options=range(10,101,10), value=10,\n",
    "    description='Lanzamientos totales',\n",
    "    layout=widgets.Layout(width='70%'))\n",
    "X.style = {'description_width': '300px'}\n",
    "\n",
    "ui = widgets.VBox(children=[X])\n",
    "out = widgets.interactive_output(grafico_distribución, {'lanzamientos_totales': X})\n",
    "display(ui,out)"
   ]
  },
  {
   "cell_type": "code",
   "execution_count": null,
   "id": "bf05a842-6718-4aa6-afe5-e6364ff864ce",
   "metadata": {},
   "outputs": [],
   "source": []
  }
 ],
 "metadata": {
  "kernelspec": {
   "display_name": "Python 3 (ipykernel)",
   "language": "python",
   "name": "python3"
  },
  "language_info": {
   "codemirror_mode": {
    "name": "ipython",
    "version": 3
   },
   "file_extension": ".py",
   "mimetype": "text/x-python",
   "name": "python",
   "nbconvert_exporter": "python",
   "pygments_lexer": "ipython3",
   "version": "3.9.1"
  }
 },
 "nbformat": 4,
 "nbformat_minor": 5
}
