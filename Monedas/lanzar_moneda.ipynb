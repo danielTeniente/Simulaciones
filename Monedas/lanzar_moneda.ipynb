{
 "cells": [
  {
   "cell_type": "markdown",
   "id": "7639550f-7064-4f79-a3e9-cd9d40080cc7",
   "metadata": {},
   "source": [
    "# Simulaciones con monedas 1"
   ]
  },
  {
   "cell_type": "markdown",
   "id": "ba2a380a-e057-41dc-b063-6b5206a95a91",
   "metadata": {},
   "source": [
    "## Obtener cara N veces"
   ]
  },
  {
   "cell_type": "markdown",
   "id": "36431ac5-9b1c-434d-9df9-79ebdef00724",
   "metadata": {},
   "source": [
    "Si se lanza una moneda 10 veces, cuál es la probabilidad de obtener cara N veces, considerando $N \\in[0,10]$"
   ]
  },
  {
   "cell_type": "code",
   "execution_count": 3,
   "id": "65714db0-7f37-4185-af6a-da97b6ed9563",
   "metadata": {},
   "outputs": [],
   "source": [
    "import numpy as np"
   ]
  },
  {
   "cell_type": "code",
   "execution_count": 7,
   "id": "7c9de245-45ea-462d-a1e1-c50e4c2d7f05",
   "metadata": {},
   "outputs": [],
   "source": [
    "epochs = 1000"
   ]
  },
  {
   "cell_type": "markdown",
   "id": "48eefc48-71f8-42b7-ae2c-eb9908af531f",
   "metadata": {},
   "source": [
    "Se uitliza una lista para guardar los resultados, que luego se convertirán en probabilidad."
   ]
  },
  {
   "cell_type": "code",
   "execution_count": 35,
   "id": "2b7245cd-0978-4c95-9c6a-135f5d82dbdf",
   "metadata": {},
   "outputs": [],
   "source": [
    "resultados = [0]*11"
   ]
  },
  {
   "cell_type": "code",
   "execution_count": 36,
   "id": "09eb79cd-f4b6-4833-86c2-d64df366d8e9",
   "metadata": {},
   "outputs": [],
   "source": [
    "# veces que se repetirá el experimento\n",
    "for t in range(epochs):\n",
    "    # simulación del suceso\n",
    "    count = 0\n",
    "    for i in range(10):\n",
    "        # lanzamiento de la moneda\n",
    "        cara = np.random.randint(2)\n",
    "        if(cara): #valor 1\n",
    "            count += 1 \n",
    "    resultados[count]+=1"
   ]
  },
  {
   "cell_type": "markdown",
   "id": "3920de1d-b713-43f5-9771-92df8bbf710e",
   "metadata": {},
   "source": [
    "Se tiene una cuenta de las veces que apareció cara en los 10 lanzamientos."
   ]
  },
  {
   "cell_type": "code",
   "execution_count": 37,
   "id": "7edb81d1-65f7-41d7-a5f4-f2ab90e4ca87",
   "metadata": {},
   "outputs": [
    {
     "data": {
      "text/plain": [
       "[1, 10, 46, 125, 214, 232, 210, 109, 40, 10, 3]"
      ]
     },
     "execution_count": 37,
     "metadata": {},
     "output_type": "execute_result"
    }
   ],
   "source": [
    "resultados"
   ]
  },
  {
   "cell_type": "code",
   "execution_count": 38,
   "id": "943d5a20-4435-413f-aded-c107f76cf5e1",
   "metadata": {},
   "outputs": [],
   "source": [
    "resultados = np.array(resultados)"
   ]
  },
  {
   "cell_type": "markdown",
   "id": "c85060c3-b7ab-4903-88fa-7d78ee326c02",
   "metadata": {},
   "source": [
    "Si se divide para el número total de experimentos se sabe cuál es la probabilidad."
   ]
  },
  {
   "cell_type": "code",
   "execution_count": 39,
   "id": "a8fb77cc-adc3-4ebe-9ca9-e7c5beedd19f",
   "metadata": {},
   "outputs": [],
   "source": [
    "resultados = resultados/epochs"
   ]
  },
  {
   "cell_type": "code",
   "execution_count": 40,
   "id": "b3b08d5b-223f-4b46-9040-7ee083de998f",
   "metadata": {},
   "outputs": [
    {
     "data": {
      "text/plain": [
       "array([0.001, 0.01 , 0.046, 0.125, 0.214, 0.232, 0.21 , 0.109, 0.04 ,\n",
       "       0.01 , 0.003])"
      ]
     },
     "execution_count": 40,
     "metadata": {},
     "output_type": "execute_result"
    }
   ],
   "source": [
    "resultados"
   ]
  },
  {
   "cell_type": "markdown",
   "id": "543c113e-bb2d-40d4-a81b-806c02fa4468",
   "metadata": {},
   "source": [
    "Toda distribución de probabilidad debe sumar 1"
   ]
  },
  {
   "cell_type": "code",
   "execution_count": 42,
   "id": "7541e5b0-d65a-4d8e-ad1d-c9f69b9a15f3",
   "metadata": {},
   "outputs": [
    {
     "data": {
      "text/plain": [
       "1.0"
      ]
     },
     "execution_count": 42,
     "metadata": {},
     "output_type": "execute_result"
    }
   ],
   "source": [
    "resultados.sum()"
   ]
  },
  {
   "cell_type": "markdown",
   "id": "b133225b-32a1-46b4-9381-e17809d913c7",
   "metadata": {},
   "source": [
    "Ahora se pueden imprimir los resultados."
   ]
  },
  {
   "cell_type": "code",
   "execution_count": 41,
   "id": "5e2f5063-11fd-4ab9-ab88-3dd981dfc5b4",
   "metadata": {},
   "outputs": [
    {
     "name": "stdout",
     "output_type": "stream",
     "text": [
      "La probabilidad de obtener cara 0 veces en 10 lanzamientos es 0.001\n",
      "La probabilidad de obtener cara 1 veces en 10 lanzamientos es 0.01\n",
      "La probabilidad de obtener cara 2 veces en 10 lanzamientos es 0.046\n",
      "La probabilidad de obtener cara 3 veces en 10 lanzamientos es 0.125\n",
      "La probabilidad de obtener cara 4 veces en 10 lanzamientos es 0.214\n",
      "La probabilidad de obtener cara 5 veces en 10 lanzamientos es 0.232\n",
      "La probabilidad de obtener cara 6 veces en 10 lanzamientos es 0.21\n",
      "La probabilidad de obtener cara 7 veces en 10 lanzamientos es 0.109\n",
      "La probabilidad de obtener cara 8 veces en 10 lanzamientos es 0.04\n",
      "La probabilidad de obtener cara 9 veces en 10 lanzamientos es 0.01\n",
      "La probabilidad de obtener cara 10 veces en 10 lanzamientos es 0.003\n"
     ]
    }
   ],
   "source": [
    "for i in range(11):\n",
    "    print(f'La probabilidad de obtener cara {i} veces en 10 lanzamientos es {resultados[i]}')"
   ]
  },
  {
   "cell_type": "code",
   "execution_count": 44,
   "id": "537713a6-f912-4a48-938f-5747f24620d2",
   "metadata": {},
   "outputs": [],
   "source": [
    "import matplotlib.pyplot as plt"
   ]
  },
  {
   "cell_type": "markdown",
   "id": "b4de93bc-5484-4a38-9b3f-e01092b52f7c",
   "metadata": {},
   "source": [
    "Se observa que obtener 5 caras es lo más probable, la distribución de probabilidad tiene la forma de una campana.\n",
    "\n",
    "Tiene sentido que la probabilidad más alta se encuentre en la mitad de los lanzamientos, pues la probabilidad de obtener cara siempre es 0.5."
   ]
  },
  {
   "cell_type": "code",
   "execution_count": 48,
   "id": "f7385068-9cd0-447d-a2e8-2f050bf48b88",
   "metadata": {},
   "outputs": [
    {
     "data": {
      "text/plain": [
       "[<matplotlib.lines.Line2D at 0x1fa2830b100>]"
      ]
     },
     "execution_count": 48,
     "metadata": {},
     "output_type": "execute_result"
    },
    {
     "data": {
      "image/png": "[encoded data removed]",
      "text/plain": [
       "<Figure size 432x288 with 1 Axes>"
      ]
     },
     "metadata": {
      "needs_background": "light"
     },
     "output_type": "display_data"
    }
   ],
   "source": [
    "plt.plot(resultados)"
   ]
  },
  {
   "cell_type": "markdown",
   "id": "c226b6e5-5b4d-4b56-b07f-5b102f1420cd",
   "metadata": {},
   "source": [
    "## Mismo experimento para 20 lanzamientos"
   ]
  },
  {
   "cell_type": "code",
   "execution_count": 50,
   "id": "3f739bb6-36c0-41dc-8ba9-6618336cdaa0",
   "metadata": {},
   "outputs": [],
   "source": [
    "resultados = [0]*21"
   ]
  },
  {
   "cell_type": "code",
   "execution_count": 51,
   "id": "20537b45-e7b1-40f8-aed3-d3d093e1e5b9",
   "metadata": {},
   "outputs": [],
   "source": [
    "# veces que se repetirá el experimento\n",
    "for t in range(epochs):\n",
    "    # simulación del suceso\n",
    "    count = 0\n",
    "    for i in range(20):\n",
    "        # lanzamiento de la moneda\n",
    "        cara = np.random.randint(2)\n",
    "        if(cara): #valor 1\n",
    "            count += 1 \n",
    "    resultados[count]+=1"
   ]
  },
  {
   "cell_type": "code",
   "execution_count": 56,
   "id": "7298418f-1592-4e87-bc48-3e59920890d0",
   "metadata": {},
   "outputs": [],
   "source": [
    "resultados = np.array(resultados)"
   ]
  },
  {
   "cell_type": "code",
   "execution_count": 57,
   "id": "0573bcaa-6a09-49ba-ad37-a80b02308ffa",
   "metadata": {
    "tags": []
   },
   "outputs": [
    {
     "data": {
      "text/plain": [
       "0.9999999999999999"
      ]
     },
     "execution_count": 57,
     "metadata": {},
     "output_type": "execute_result"
    }
   ],
   "source": [
    "resultados = resultados/epochs\n",
    "resultados.sum()"
   ]
  },
  {
   "cell_type": "markdown",
   "id": "994fc3c9-00bd-489d-b411-a4eb60557a94",
   "metadata": {},
   "source": [
    "Efectivamente, el resultado más abundante es la mitad de los lanzamientos."
   ]
  },
  {
   "cell_type": "code",
   "execution_count": 60,
   "id": "0ffe8de8-da12-45d6-971e-606b926505c6",
   "metadata": {},
   "outputs": [
    {
     "data": {
      "text/plain": [
       "[<matplotlib.lines.Line2D at 0x1fa2befeb50>]"
      ]
     },
     "execution_count": 60,
     "metadata": {},
     "output_type": "execute_result"
    },
    {
     "data": {
      "image/png": "[encoded data removed]",
      "text/plain": [
       "<Figure size 432x288 with 1 Axes>"
      ]
     },
     "metadata": {
      "needs_background": "light"
     },
     "output_type": "display_data"
    }
   ],
   "source": [
    "plt.plot(resultados)"
   ]
  }
 ],
 "metadata": {
  "kernelspec": {
   "display_name": "Python 3 (ipykernel)",
   "language": "python",
   "name": "python3"
  },
  "language_info": {
   "codemirror_mode": {
    "name": "ipython",
    "version": 3
   },
   "file_extension": ".py",
   "mimetype": "text/x-python",
   "name": "python",
   "nbconvert_exporter": "python",
   "pygments_lexer": "ipython3",
   "version": "3.9.1"
  }
 },
 "nbformat": 4,
 "nbformat_minor": 5
}
