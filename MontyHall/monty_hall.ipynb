{
 "cells": [
  {
   "cell_type": "markdown",
   "id": "49965510-2e25-4e6b-89cc-21114d9e0426",
   "metadata": {},
   "source": [
    "# Monty Hall"
   ]
  },
  {
   "cell_type": "markdown",
   "id": "0ba38b0e-60cc-4997-8720-8b61f60e3cc3",
   "metadata": {},
   "source": [
    "El problema de Monty Hall es un clásico de la estadística. \n",
    "\n",
    "Tienes tres puertas delante de ti. Una de ellas tiene un vehículo y la otras tienen cabras. Eliges una puerta y el presentador abre una de las otras dos opciones. Ahora te pregunta si quieres quedarte con tu elección o cambiar de puerta. La mejor acción es cambiar de puerta, pues tienes una probabilidad de $\\frac{2}{3}$ de ganar."
   ]
  },
  {
   "cell_type": "markdown",
   "id": "720348e1-5b66-4571-a96f-5ab4fba247ca",
   "metadata": {},
   "source": [
    "La dificultad se encuentra en que es poco intuitivo percibir esa probabilidad, la mayoría de nosotros pensaría que existe una probailidad de 0.5 de acertar. Hay dos puertas, debes elegir si quedarte con tu elección original o cambiar a la puerta sobrante. \n",
    "\n",
    "Existen varias formas de entender la solución, pero hoy voy a simularla para \"verificar\" la respuesta teórica."
   ]
  },
  {
   "cell_type": "markdown",
   "id": "dff51c5c-31f1-4f3d-8aa1-becc6a66fa0a",
   "metadata": {},
   "source": [
    "## Las puertas"
   ]
  },
  {
   "cell_type": "markdown",
   "id": "02ad78a0-ad6f-4c69-a96b-2628e3265063",
   "metadata": {},
   "source": [
    "Utilizaré una lista de tres elementos, 0 o 1, el 1 representa el vehículo."
   ]
  },
  {
   "cell_type": "code",
   "execution_count": 63,
   "id": "f0c0dec4-6812-4355-8d87-9412d1915241",
   "metadata": {},
   "outputs": [],
   "source": [
    "import numpy as np"
   ]
  },
  {
   "cell_type": "code",
   "execution_count": 79,
   "id": "5b3c4676-5413-4921-a500-f2f13ffc1ad4",
   "metadata": {},
   "outputs": [],
   "source": [
    "vehicle_ix = np.random.randint(3)"
   ]
  },
  {
   "cell_type": "code",
   "execution_count": 80,
   "id": "0021674f-f671-4027-9a90-5d32516cf860",
   "metadata": {},
   "outputs": [],
   "source": [
    "puertas = [0]*3\n",
    "puertas[vehicle_ix] = 1"
   ]
  },
  {
   "cell_type": "code",
   "execution_count": 81,
   "id": "48045e4a-4a44-4146-a8c0-38c026a92bb6",
   "metadata": {},
   "outputs": [
    {
     "data": {
      "text/plain": [
       "[0, 0, 1]"
      ]
     },
     "execution_count": 81,
     "metadata": {},
     "output_type": "execute_result"
    }
   ],
   "source": [
    "puertas"
   ]
  },
  {
   "cell_type": "markdown",
   "id": "76319d18-c30d-4525-8d66-5129f6ff5d3d",
   "metadata": {},
   "source": [
    "## Las elecciones"
   ]
  },
  {
   "cell_type": "markdown",
   "id": "c2fa6914-eec5-41e8-a872-a7dc33d77c95",
   "metadata": {},
   "source": [
    "Voy a realizar dos simulaciones, una donde se elige una puerta al azar y se mantiene la elección después de rebelar una cabra; y otra donde la elección cambia a la puerta sobrante."
   ]
  },
  {
   "cell_type": "markdown",
   "id": "ca7f246e-704c-4d9b-9ac4-cb06a7d0fa37",
   "metadata": {},
   "source": [
    "### La opción se mantiene"
   ]
  },
  {
   "cell_type": "code",
   "execution_count": 8,
   "id": "4b35e838-9b96-4c13-9ccd-c3872d6168d5",
   "metadata": {},
   "outputs": [],
   "source": [
    "t = 1000"
   ]
  },
  {
   "cell_type": "markdown",
   "id": "c6a35065-8ca4-4bd1-b89e-d76a43acbbde",
   "metadata": {},
   "source": [
    "Necesito un contador que me permita saber cuántas veces ganó el auto."
   ]
  },
  {
   "cell_type": "code",
   "execution_count": 85,
   "id": "8c63be3b-a19a-4959-a30b-4da54bd45a88",
   "metadata": {},
   "outputs": [],
   "source": [
    "counter = 0"
   ]
  },
  {
   "cell_type": "markdown",
   "id": "2376f685-f542-49ce-8123-19ef70dfc02e",
   "metadata": {},
   "source": [
    "Acabo de notar que la lista de 0s y 1s se puede obviar. Así que sólo trabajaré con los índices de las puertas. No hace falta simular la otra parte del juego, porque el jugador se queda con la primera puerta que elige."
   ]
  },
  {
   "cell_type": "code",
   "execution_count": 87,
   "id": "207f3689-177b-4224-9648-7675ee4f9a0e",
   "metadata": {},
   "outputs": [],
   "source": [
    "for _ in range(t):\n",
    "    vehicle_ix = np.random.randint(3)\n",
    "    selected_door = np.random.randint(3)\n",
    "    # si se eligió bien, la otra puerta no tiene el vehículo\n",
    "    if(vehicle_ix == selected_door):\n",
    "        counter += 1\n",
    "        "
   ]
  },
  {
   "cell_type": "code",
   "execution_count": 88,
   "id": "c19d00dd-cc47-4dba-8cf8-053f762f183c",
   "metadata": {},
   "outputs": [
    {
     "data": {
      "text/plain": [
       "0.325"
      ]
     },
     "execution_count": 88,
     "metadata": {},
     "output_type": "execute_result"
    }
   ],
   "source": [
    "counter/t"
   ]
  },
  {
   "cell_type": "code",
   "execution_count": 89,
   "id": "dcec64af-d221-48c3-b3de-6eeedb441617",
   "metadata": {},
   "outputs": [
    {
     "data": {
      "text/plain": [
       "0.3333333333333333"
      ]
     },
     "execution_count": 89,
     "metadata": {},
     "output_type": "execute_result"
    }
   ],
   "source": [
    "1/3"
   ]
  },
  {
   "cell_type": "markdown",
   "id": "9c0db5e1-f337-42a9-8eef-73f422f1b66d",
   "metadata": {},
   "source": [
    "No hemos visto nada raro, con tres puertas, tienes $\\frac{1}{3}$ de probabilidad de acertar."
   ]
  },
  {
   "cell_type": "markdown",
   "id": "f59b908a-f7b3-49a1-9276-df3a8f826f44",
   "metadata": {},
   "source": [
    "### La elección cambia"
   ]
  },
  {
   "cell_type": "code",
   "execution_count": 92,
   "id": "6686e9ee-0a36-4be8-b167-423269ae33f2",
   "metadata": {},
   "outputs": [],
   "source": [
    "counter = 0"
   ]
  },
  {
   "cell_type": "markdown",
   "id": "056d4fe2-7a37-4243-a110-bdce35a61b66",
   "metadata": {},
   "source": [
    "Para la siguiente parte del juego, sólo es necesario saber lo siguiente. Si la elección es correcta desde el principio, entonces fallas, si no, entonces ganas, porque este agente siempre cambia a la otra puerta."
   ]
  },
  {
   "cell_type": "code",
   "execution_count": 93,
   "id": "9fa5c61a-28a1-4817-b9d6-108a6df11a92",
   "metadata": {},
   "outputs": [],
   "source": [
    "for _ in range(t):\n",
    "    vehicle_ix = np.random.randint(3)\n",
    "    selected_door = np.random.randint(3)\n",
    "    # si se eligió mal, cambiará de puerta en la segunda etapa del juego\n",
    "    if(vehicle_ix != selected_door):\n",
    "        counter += 1\n",
    "        "
   ]
  },
  {
   "cell_type": "code",
   "execution_count": 95,
   "id": "cbfdd796-d149-4da2-9660-2a8010443be0",
   "metadata": {},
   "outputs": [
    {
     "data": {
      "text/plain": [
       "0.665"
      ]
     },
     "execution_count": 95,
     "metadata": {},
     "output_type": "execute_result"
    }
   ],
   "source": [
    "counter/t"
   ]
  },
  {
   "cell_type": "code",
   "execution_count": 96,
   "id": "50a9beda-821a-4d7b-8156-f592c55cee7b",
   "metadata": {},
   "outputs": [
    {
     "data": {
      "text/plain": [
       "0.6666666666666666"
      ]
     },
     "execution_count": 96,
     "metadata": {},
     "output_type": "execute_result"
    }
   ],
   "source": [
    "2/3"
   ]
  },
  {
   "cell_type": "markdown",
   "id": "6c3822cc-3cfd-4412-a125-e9e163d5b958",
   "metadata": {},
   "source": [
    "Con sólo ver el código era fácil darse cuenta. Estoy incrementando el contador por cada vez que falla al suponer en qué puerta se encuentra el vehículo durante la primera ronda. Y es que existen $\\frac{2}{3}$ de probabilidad de fallar en la primera ronda. \n",
    "\n",
    "En la segunda ronda, una de las puertas se abre, y como siempre cambia de parecer, eso hace que su elección original no importe, lo que importa es la puerta sobrante."
   ]
  },
  {
   "cell_type": "markdown",
   "id": "5173d310-6160-4daa-98a8-8550653d76c3",
   "metadata": {},
   "source": [
    "### Simulación más compleja"
   ]
  },
  {
   "cell_type": "markdown",
   "id": "256be8b7-1d2c-4ebd-964f-2a2e0c242423",
   "metadata": {},
   "source": [
    "Agregaré más pasos sólo para que no parezca que hago trampa."
   ]
  },
  {
   "cell_type": "code",
   "execution_count": 111,
   "id": "c8204fa4-7253-48fa-8814-230864271adb",
   "metadata": {},
   "outputs": [],
   "source": [
    "counter = 0"
   ]
  },
  {
   "cell_type": "code",
   "execution_count": 112,
   "id": "4f704a8a-2ce8-47ed-8162-d51e95554332",
   "metadata": {},
   "outputs": [],
   "source": [
    "for _ in range(t):\n",
    "    puertas = [0,1,2]\n",
    "    # se esconde el vehículo\n",
    "    vehicle_ix = np.random.randint(3)\n",
    "    # el jugador elige una puerta\n",
    "    selected_door = np.random.randint(3)\n",
    "    # el presentador debe abrir una de las dos puertas sobrantes\n",
    "    # no puede abrir la puerta que seleccionó el jugador ni la puerta donde está el vehículo\n",
    "    other_doors = [idx for idx in puertas if (idx != selected_door and idx != vehicle_ix)]\n",
    "    # se abre una de las puertas\n",
    "    opened_door = np.random.choice(other_doors)\n",
    "    # ahora solo quedan dos puertas\n",
    "    current_doors = [idx for idx in puertas if idx != opened_door]\n",
    "    # el jugador cambia de puerta\n",
    "    final_door = current_doors[0] if current_doors[0]!=selected_door else current_doors[1]\n",
    "    # se comprueba si hay un vehículo\n",
    "    if(final_door == vehicle_ix):\n",
    "        counter+=1\n",
    "        "
   ]
  },
  {
   "cell_type": "code",
   "execution_count": 113,
   "id": "e2ff4d43-aa6a-46e4-9861-162f446c8f9f",
   "metadata": {},
   "outputs": [
    {
     "data": {
      "text/plain": [
       "0.667"
      ]
     },
     "execution_count": 113,
     "metadata": {},
     "output_type": "execute_result"
    }
   ],
   "source": [
    "counter/t"
   ]
  },
  {
   "cell_type": "markdown",
   "id": "5419efb9-31a7-487b-b200-5cc154e4bf18",
   "metadata": {},
   "source": [
    "El resultado es el mismo, tienes dos tercios de probabilidad de ganar si cambias de elección."
   ]
  }
 ],
 "metadata": {
  "kernelspec": {
   "display_name": "Python 3 (ipykernel)",
   "language": "python",
   "name": "python3"
  },
  "language_info": {
   "codemirror_mode": {
    "name": "ipython",
    "version": 3
   },
   "file_extension": ".py",
   "mimetype": "text/x-python",
   "name": "python",
   "nbconvert_exporter": "python",
   "pygments_lexer": "ipython3",
   "version": "3.9.1"
  }
 },
 "nbformat": 4,
 "nbformat_minor": 5
}
