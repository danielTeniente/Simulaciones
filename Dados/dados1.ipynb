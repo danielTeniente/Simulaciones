{
 "cells": [
  {
   "cell_type": "markdown",
   "id": "0293ef59-3742-4ab9-86fe-775a02b581bc",
   "metadata": {},
   "source": [
    "# Lanzar dados"
   ]
  },
  {
   "cell_type": "markdown",
   "id": "64ab81c0-2e2a-49f1-96e8-90a4225e6d8c",
   "metadata": {},
   "source": [
    "El concepto principal al lanzar un dado es que todas las caras tienen la misma probabilidad de aparecer. Hablamos de probabilidad uniforme."
   ]
  },
  {
   "cell_type": "code",
   "execution_count": 3,
   "id": "a3aa2b1e-6f2e-46da-9e0d-0558c47985de",
   "metadata": {},
   "outputs": [],
   "source": [
    "import numpy as np\n",
    "import matplotlib.pyplot as plt"
   ]
  },
  {
   "cell_type": "markdown",
   "id": "eeb76a39-2f8d-4921-8ff6-d2fbed0c7aff",
   "metadata": {},
   "source": [
    "Un dado consiste en seis posibilidades. Utilizaré `randint` con un rango de 1 a 6 para que luzca natural. Debo escribir 7 en la función porque el límite superior no se toma en cuenta."
   ]
  },
  {
   "cell_type": "code",
   "execution_count": 13,
   "id": "5e9cb262-7a34-4141-bb36-ad0f7c52bda5",
   "metadata": {},
   "outputs": [],
   "source": [
    "dado = np.random.randint(1,7,10)"
   ]
  },
  {
   "cell_type": "code",
   "execution_count": 14,
   "id": "fb0c050e-c209-41f9-af6a-8c5af527575f",
   "metadata": {},
   "outputs": [
    {
     "data": {
      "text/plain": [
       "array([4, 1, 2, 6, 6, 5, 3, 1, 6, 1])"
      ]
     },
     "execution_count": 14,
     "metadata": {},
     "output_type": "execute_result"
    }
   ],
   "source": [
    "dado"
   ]
  },
  {
   "cell_type": "markdown",
   "id": "4485a237-3774-47f1-bd16-b78a292c4e5c",
   "metadata": {},
   "source": [
    "Ahora simularé lanzar un dado miles de veces para que pueda apreciarse la probabilidad uniforme."
   ]
  },
  {
   "cell_type": "code",
   "execution_count": 24,
   "id": "f859477e-73db-4e6f-a0e8-eeb5a0673fcb",
   "metadata": {},
   "outputs": [],
   "source": [
    "lanzamientos = np.random.randint(1,7,10000)"
   ]
  },
  {
   "cell_type": "markdown",
   "id": "ed50f777-41e5-4b29-aa16-e570a6b3bf56",
   "metadata": {},
   "source": [
    "Se puede observar que cada cara del dado apareció un número similar de veces durante los $10^4$ lanzamientos."
   ]
  },
  {
   "cell_type": "code",
   "execution_count": 38,
   "id": "c62caae0-2da9-4824-972a-5d7944180f33",
   "metadata": {},
   "outputs": [
    {
     "data": {
      "image/png": "[encoded data removed]",
      "text/plain": [
       "<Figure size 432x288 with 1 Axes>"
      ]
     },
     "metadata": {
      "needs_background": "light"
     },
     "output_type": "display_data"
    }
   ],
   "source": [
    "plt.hist(lanzamientos, edgecolor=\"red\", bins=6)\n",
    "plt.show()"
   ]
  },
  {
   "cell_type": "markdown",
   "id": "93678870-6c6f-424e-8966-563642577595",
   "metadata": {},
   "source": [
    "## Cuál es la mrobabilidad de obtener un X valor a medida que se incrementa el número de dados."
   ]
  },
  {
   "cell_type": "markdown",
   "id": "9ad29d16-a2ca-4e26-90ab-4658f6fe8366",
   "metadata": {},
   "source": [
    "Algo que siempre me he preguntado al jugar monopolio es por qué el número 12 parece tan improbable. Qué tan probable es obtener un 12 realmente en comparación con los demás."
   ]
  },
  {
   "cell_type": "code",
   "execution_count": 42,
   "id": "59b8ba9b-570c-4b22-a392-709d609b907a",
   "metadata": {},
   "outputs": [],
   "source": [
    "valores = [0]*11 # no se puede obtener ni un 0 ni un 1"
   ]
  },
  {
   "cell_type": "code",
   "execution_count": 45,
   "id": "54ab7ceb-2c71-405d-85e8-8a82e3573b19",
   "metadata": {},
   "outputs": [],
   "source": [
    "for _ in range(10000):\n",
    "    dado1 = np.random.randint(1,7)\n",
    "    dado2 = np.random.randint(1,7)\n",
    "    valor = dado1 + dado2\n",
    "    valores[valor-2]+=1"
   ]
  },
  {
   "cell_type": "code",
   "execution_count": 46,
   "id": "30deab56-7ba7-49a2-8524-cb9289f21578",
   "metadata": {},
   "outputs": [
    {
     "data": {
      "text/plain": [
       "[320, 595, 899, 1284, 1491, 1797, 1551, 1219, 918, 634, 292]"
      ]
     },
     "execution_count": 46,
     "metadata": {},
     "output_type": "execute_result"
    }
   ],
   "source": [
    "valores"
   ]
  },
  {
   "cell_type": "code",
   "execution_count": 47,
   "id": "de11318c-82f3-48fc-b3a2-78d82af952de",
   "metadata": {},
   "outputs": [],
   "source": [
    "probabilidad = np.array(valores)"
   ]
  },
  {
   "cell_type": "code",
   "execution_count": 48,
   "id": "91ab03ec-8e04-4c26-8634-3574423da5eb",
   "metadata": {},
   "outputs": [],
   "source": [
    "probabilidad = probabilidad/probabilidad.sum()"
   ]
  },
  {
   "cell_type": "code",
   "execution_count": 49,
   "id": "eb86368e-ef6c-432f-a026-f289b80b7510",
   "metadata": {},
   "outputs": [
    {
     "data": {
      "text/plain": [
       "array([0.02909091, 0.05409091, 0.08172727, 0.11672727, 0.13554545,\n",
       "       0.16336364, 0.141     , 0.11081818, 0.08345455, 0.05763636,\n",
       "       0.02654545])"
      ]
     },
     "execution_count": 49,
     "metadata": {},
     "output_type": "execute_result"
    }
   ],
   "source": [
    "probabilidad"
   ]
  },
  {
   "cell_type": "code",
   "execution_count": 51,
   "id": "b157757c-e604-4c24-b3d6-cc88f0af1dd8",
   "metadata": {},
   "outputs": [
    {
     "data": {
      "text/plain": [
       "[<matplotlib.lines.Line2D at 0x1f6421cb520>]"
      ]
     },
     "execution_count": 51,
     "metadata": {},
     "output_type": "execute_result"
    },
    {
     "data": {
      "image/png": "[encoded data removed]",
      "text/plain": [
       "<Figure size 432x288 with 1 Axes>"
      ]
     },
     "metadata": {
      "needs_background": "light"
     },
     "output_type": "display_data"
    }
   ],
   "source": [
    "plt.plot(probabilidad)"
   ]
  },
  {
   "cell_type": "markdown",
   "id": "b26f31a5-8a7e-4d2e-a841-47d89855609b",
   "metadata": {},
   "source": [
    "Bueno, parece que la probabilidad es cercana a un 2%, lo cual es bastante bajo."
   ]
  },
  {
   "cell_type": "markdown",
   "id": "c10cd859-53d3-4721-a8d5-e86557360e38",
   "metadata": {},
   "source": [
    "Si quieres un valor teórico para verificar, basta con tomar en cuenta que necesitas obtener un 6 dos veces."
   ]
  },
  {
   "cell_type": "code",
   "execution_count": 53,
   "id": "90b3b389-5716-434a-8d18-84cc9c619e44",
   "metadata": {},
   "outputs": [
    {
     "data": {
      "text/plain": [
       "0.027777777777777776"
      ]
     },
     "execution_count": 53,
     "metadata": {},
     "output_type": "execute_result"
    }
   ],
   "source": [
    "(1/6)**2"
   ]
  },
  {
   "cell_type": "code",
   "execution_count": 55,
   "id": "7ae67901-080b-4f6f-a641-c1c2f6ad4bf0",
   "metadata": {},
   "outputs": [
    {
     "data": {
      "text/plain": [
       "0.026545454545454546"
      ]
     },
     "execution_count": 55,
     "metadata": {},
     "output_type": "execute_result"
    }
   ],
   "source": [
    "probabilidad[12-2]"
   ]
  },
  {
   "cell_type": "markdown",
   "id": "d3e69f15-c6d6-4a22-8a43-56ccdff302ac",
   "metadata": {},
   "source": [
    "Se obtuvo un valor bastante cercano al teórico, simplemente lo muestro para incrementar nuestra confianza en la simulación. En el próximo notebook voy a usar interactividad para variar el número de dados que se lanzan."
   ]
  }
 ],
 "metadata": {
  "kernelspec": {
   "display_name": "Python 3 (ipykernel)",
   "language": "python",
   "name": "python3"
  },
  "language_info": {
   "codemirror_mode": {
    "name": "ipython",
    "version": 3
   },
   "file_extension": ".py",
   "mimetype": "text/x-python",
   "name": "python",
   "nbconvert_exporter": "python",
   "pygments_lexer": "ipython3",
   "version": "3.9.1"
  }
 },
 "nbformat": 4,
 "nbformat_minor": 5
}
